{
 "cells": [
  {
   "cell_type": "code",
   "execution_count": 1,
   "id": "d7b82ce5",
   "metadata": {},
   "outputs": [],
   "source": [
    "import pandas as pd"
   ]
  },
  {
   "cell_type": "code",
   "execution_count": 5,
   "id": "50db93a8",
   "metadata": {},
   "outputs": [],
   "source": [
    "# d1= pd.read_csv(\"source 1/gurgaon_10k.csv\")\n",
    "d2= pd.read_csv(\"source 1/hyderabad.csv\")\n",
    "d3= pd.read_csv(\"source 1/kolkata.csv\")\n",
    "d4= pd.read_csv(\"source 1/mumbai.csv\")\n",
    "\n"
   ]
  },
  {
   "cell_type": "code",
   "execution_count": 14,
   "id": "1ea17d95",
   "metadata": {},
   "outputs": [
    {
     "data": {
      "text/plain": [
       "<bound method DataFrame.info of         PROP_ID PREFERENCE                                        DESCRIPTION  \\\n",
       "0     Y71306776          S  Book your 2 BHK flat in Srijan Star Swapno Pur...   \n",
       "1     B70113976          S  Make Natural Quest your next home. This projec...   \n",
       "2     O70374510          S  Book your 3 BHK apartment in Garia, Kolkata So...   \n",
       "3     Q69170182          S  Dev bhumi in joka, kolkata south by ocean land...   \n",
       "4     F69917588          S  Let your dream of owning a flat come true with...   \n",
       "...         ...        ...                                                ...   \n",
       "8792  J66826540          S  Ambuja upohar the condoville is one of the mos...   \n",
       "8793  E66826562          S  Looking for a 3 bhk property for sale in kolka...   \n",
       "8794  J71210104          S  It is a standard 2 bhk with 2 room, 2 bath, 1 ...   \n",
       "8795  I41581465          R  A very good 3 bhk flat for rent in south city,...   \n",
       "8796  E67621228          R  Explore this amicable adhunika chs of lake gar...   \n",
       "\n",
       "              PROPERTY_TYPE           CITY  TRANSACT_TYPE  OWNTYPE  \\\n",
       "0     Residential Apartment  Kolkata South            2.0        1   \n",
       "1     Residential Apartment  Kolkata South            2.0        1   \n",
       "2     Residential Apartment  Kolkata South            2.0        1   \n",
       "3          Residential Land  Kolkata South            2.0        1   \n",
       "4     Residential Apartment  Kolkata South            2.0        1   \n",
       "...                     ...            ...            ...      ...   \n",
       "8792  Residential Apartment  Kolkata South            1.0        1   \n",
       "8793  Residential Apartment  Kolkata South            1.0        1   \n",
       "8794  Residential Apartment   Kolkata East            1.0        1   \n",
       "8795  Residential Apartment  Kolkata South            NaN        0   \n",
       "8796  Residential Apartment  Kolkata South            NaN        0   \n",
       "\n",
       "      BEDROOM_NUM  PRICE_PER_UNIT_AREA  FURNISH  ...  \\\n",
       "0             2.0               3662.0        0  ...   \n",
       "1             3.0              10500.0        0  ...   \n",
       "2             3.0               8900.0        0  ...   \n",
       "3             NaN                208.0        0  ...   \n",
       "4             3.0               5215.0        0  ...   \n",
       "...           ...                  ...      ...  ...   \n",
       "8792          3.0               8410.0        4  ...   \n",
       "8793          3.0               8417.0        4  ...   \n",
       "8794          2.0               5887.0        2  ...   \n",
       "8795          3.0                 37.0        1  ...   \n",
       "8796          2.0                 31.0        1  ...   \n",
       "\n",
       "                     BUILDING_NAME  \\\n",
       "0         Srijan Star Swapno Puron   \n",
       "1                    Natural Quest   \n",
       "2          Ganguly 4Sight Eminence   \n",
       "3                        Dev Bhumi   \n",
       "4                        DTC Sojon   \n",
       "...                            ...   \n",
       "8792  Ambuja Upohar The Condoville   \n",
       "8793  Ambuja Upohar The Condoville   \n",
       "8794          DLF New Town Heights   \n",
       "8795                    South City   \n",
       "8796                  Adhunika CHS   \n",
       "\n",
       "                                               location  BALCONY_NUM  \\\n",
       "0     {'CITY': '27', 'CITY_NAME': 'Kolkata South', '...          NaN   \n",
       "1     {'CITY': '27', 'CITY_NAME': 'Kolkata South', '...          NaN   \n",
       "2     {'CITY': '27', 'CITY_NAME': 'Kolkata South', '...          NaN   \n",
       "3     {'CITY': '27', 'CITY_NAME': 'Kolkata South', '...          NaN   \n",
       "4     {'CITY': '27', 'CITY_NAME': 'Kolkata South', '...          NaN   \n",
       "...                                                 ...          ...   \n",
       "8792  {'CITY': '27', 'CITY_NAME': 'Kolkata South', '...          2.0   \n",
       "8793  {'CITY': '27', 'CITY_NAME': 'Kolkata South', '...          2.0   \n",
       "8794  {'CITY': '28', 'CITY_NAME': 'Kolkata East', 'L...          1.0   \n",
       "8795  {'CITY': '27', 'CITY_NAME': 'Kolkata South', '...          1.0   \n",
       "8796  {'CITY': '27', 'CITY_NAME': 'Kolkata South', '...          1.0   \n",
       "\n",
       "     FLOOR_NUM CARPET_SQFT  SUPERBUILTUP_SQFT BUILTUP_SQFT SUPER_AREA  \\\n",
       "0            1         NaN                NaN          NaN        NaN   \n",
       "1            1         NaN                NaN          NaN        NaN   \n",
       "2            1         NaN                NaN          NaN        NaN   \n",
       "3          NaN         NaN                NaN          NaN        NaN   \n",
       "4            1         NaN                NaN          NaN        NaN   \n",
       "...        ...         ...                ...          ...        ...   \n",
       "8792        14         NaN             1843.0          NaN        NaN   \n",
       "8793        10         NaN             2079.0       1875.0        NaN   \n",
       "8794         3       900.0             1257.0       1050.0        NaN   \n",
       "8795        24         NaN             1458.0          NaN        NaN   \n",
       "8796         2       800.0                NaN          NaN        NaN   \n",
       "\n",
       "     SUPERAREA_UNIT SUPER_SQFT  \n",
       "0               NaN        NaN  \n",
       "1               NaN        NaN  \n",
       "2               NaN        NaN  \n",
       "3               NaN        NaN  \n",
       "4               NaN        NaN  \n",
       "...             ...        ...  \n",
       "8792            NaN        NaN  \n",
       "8793            NaN        NaN  \n",
       "8794            NaN        NaN  \n",
       "8795            NaN        NaN  \n",
       "8796            NaN        NaN  \n",
       "\n",
       "[8797 rows x 35 columns]>"
      ]
     },
     "execution_count": 14,
     "metadata": {},
     "output_type": "execute_result"
    }
   ],
   "source": [
    "d3.info"
   ]
  },
  {
   "cell_type": "code",
   "execution_count": 10,
   "id": "1bb58eed",
   "metadata": {},
   "outputs": [
    {
     "ename": "AttributeError",
     "evalue": "'DataFrame' object has no attribute 'unique'",
     "output_type": "error",
     "traceback": [
      "\u001b[0;31m---------------------------------------------------------------------------\u001b[0m",
      "\u001b[0;31mAttributeError\u001b[0m                            Traceback (most recent call last)",
      "\u001b[0;32m/var/folders/y9/_qrqr8896dn2r72t2bdh1_lr0000gn/T/ipykernel_6276/458411231.py\u001b[0m in \u001b[0;36m?\u001b[0;34m()\u001b[0m\n\u001b[0;32m----> 1\u001b[0;31m \u001b[0md4\u001b[0m\u001b[0;34m.\u001b[0m\u001b[0munique\u001b[0m\u001b[0;34m(\u001b[0m\u001b[0;34m)\u001b[0m\u001b[0;34m\u001b[0m\u001b[0;34m\u001b[0m\u001b[0m\n\u001b[0m",
      "\u001b[0;32m~/anaconda3/lib/python3.10/site-packages/pandas/core/generic.py\u001b[0m in \u001b[0;36m?\u001b[0;34m(self, name)\u001b[0m\n\u001b[1;32m   5898\u001b[0m             \u001b[0;32mand\u001b[0m \u001b[0mname\u001b[0m \u001b[0;32mnot\u001b[0m \u001b[0;32min\u001b[0m \u001b[0mself\u001b[0m\u001b[0;34m.\u001b[0m\u001b[0m_accessors\u001b[0m\u001b[0;34m\u001b[0m\u001b[0;34m\u001b[0m\u001b[0m\n\u001b[1;32m   5899\u001b[0m             \u001b[0;32mand\u001b[0m \u001b[0mself\u001b[0m\u001b[0;34m.\u001b[0m\u001b[0m_info_axis\u001b[0m\u001b[0;34m.\u001b[0m\u001b[0m_can_hold_identifiers_and_holds_name\u001b[0m\u001b[0;34m(\u001b[0m\u001b[0mname\u001b[0m\u001b[0;34m)\u001b[0m\u001b[0;34m\u001b[0m\u001b[0;34m\u001b[0m\u001b[0m\n\u001b[1;32m   5900\u001b[0m         ):\n\u001b[1;32m   5901\u001b[0m             \u001b[0;32mreturn\u001b[0m \u001b[0mself\u001b[0m\u001b[0;34m[\u001b[0m\u001b[0mname\u001b[0m\u001b[0;34m]\u001b[0m\u001b[0;34m\u001b[0m\u001b[0;34m\u001b[0m\u001b[0m\n\u001b[0;32m-> 5902\u001b[0;31m         \u001b[0;32mreturn\u001b[0m \u001b[0mobject\u001b[0m\u001b[0;34m.\u001b[0m\u001b[0m__getattribute__\u001b[0m\u001b[0;34m(\u001b[0m\u001b[0mself\u001b[0m\u001b[0;34m,\u001b[0m \u001b[0mname\u001b[0m\u001b[0;34m)\u001b[0m\u001b[0;34m\u001b[0m\u001b[0;34m\u001b[0m\u001b[0m\n\u001b[0m",
      "\u001b[0;31mAttributeError\u001b[0m: 'DataFrame' object has no attribute 'unique'"
     ]
    }
   ],
   "source": [
    "d4[].unique"
   ]
  },
  {
   "cell_type": "code",
   "execution_count": null,
   "id": "64dde6fa",
   "metadata": {},
   "outputs": [],
   "source": []
  }
 ],
 "metadata": {
  "kernelspec": {
   "display_name": "Python 3 (ipykernel)",
   "language": "python",
   "name": "python3"
  },
  "language_info": {
   "codemirror_mode": {
    "name": "ipython",
    "version": 3
   },
   "file_extension": ".py",
   "mimetype": "text/x-python",
   "name": "python",
   "nbconvert_exporter": "python",
   "pygments_lexer": "ipython3",
   "version": "3.10.13"
  }
 },
 "nbformat": 4,
 "nbformat_minor": 5
}
